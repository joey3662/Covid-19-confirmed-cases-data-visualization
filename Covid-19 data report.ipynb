{
 "cells": [
  {
   "cell_type": "code",
   "execution_count": 1,
   "metadata": {},
   "outputs": [
    {
     "data": {
      "text/html": [
       "<div>\n",
       "<style scoped>\n",
       "    .dataframe tbody tr th:only-of-type {\n",
       "        vertical-align: middle;\n",
       "    }\n",
       "\n",
       "    .dataframe tbody tr th {\n",
       "        vertical-align: top;\n",
       "    }\n",
       "\n",
       "    .dataframe thead th {\n",
       "        text-align: right;\n",
       "    }\n",
       "</style>\n",
       "<table border=\"1\" class=\"dataframe\">\n",
       "  <thead>\n",
       "    <tr style=\"text-align: right;\">\n",
       "      <th></th>\n",
       "      <th>location</th>\n",
       "      <th>date</th>\n",
       "      <th>total_cases</th>\n",
       "      <th>total_deaths</th>\n",
       "    </tr>\n",
       "  </thead>\n",
       "  <tbody>\n",
       "    <tr>\n",
       "      <th>0</th>\n",
       "      <td>Afghanistan</td>\n",
       "      <td>2019-12-31</td>\n",
       "      <td>0.0</td>\n",
       "      <td>0.0</td>\n",
       "    </tr>\n",
       "    <tr>\n",
       "      <th>1</th>\n",
       "      <td>Afghanistan</td>\n",
       "      <td>2020-01-01</td>\n",
       "      <td>0.0</td>\n",
       "      <td>0.0</td>\n",
       "    </tr>\n",
       "    <tr>\n",
       "      <th>2</th>\n",
       "      <td>Afghanistan</td>\n",
       "      <td>2020-01-02</td>\n",
       "      <td>0.0</td>\n",
       "      <td>0.0</td>\n",
       "    </tr>\n",
       "    <tr>\n",
       "      <th>3</th>\n",
       "      <td>Afghanistan</td>\n",
       "      <td>2020-01-03</td>\n",
       "      <td>0.0</td>\n",
       "      <td>0.0</td>\n",
       "    </tr>\n",
       "    <tr>\n",
       "      <th>4</th>\n",
       "      <td>Afghanistan</td>\n",
       "      <td>2020-01-04</td>\n",
       "      <td>0.0</td>\n",
       "      <td>0.0</td>\n",
       "    </tr>\n",
       "  </tbody>\n",
       "</table>\n",
       "</div>"
      ],
      "text/plain": [
       "      location        date  total_cases  total_deaths\n",
       "0  Afghanistan  2019-12-31          0.0           0.0\n",
       "1  Afghanistan  2020-01-01          0.0           0.0\n",
       "2  Afghanistan  2020-01-02          0.0           0.0\n",
       "3  Afghanistan  2020-01-03          0.0           0.0\n",
       "4  Afghanistan  2020-01-04          0.0           0.0"
      ]
     },
     "execution_count": 1,
     "metadata": {},
     "output_type": "execute_result"
    }
   ],
   "source": [
    "import pandas as pd\n",
    "import matplotlib.pyplot as plt\n",
    "import matplotlib.animation as animation\n",
    "import numpy as np\n",
    "from time import sleep\n",
    "\n",
    "url = 'https://covid.ourworldindata.org/data/owid-covid-data.csv'\n",
    "df = pd.read_csv(url,header=0,  usecols = ['location', 'date', 'total_cases','total_deaths'])\n",
    "df.head()"
   ]
  },
  {
   "cell_type": "code",
   "execution_count": 2,
   "metadata": {},
   "outputs": [
    {
     "name": "stdout",
     "output_type": "stream",
     "text": [
      "                           total_cases  total_deaths\n",
      "date       location                                 \n",
      "2019-12-31 Afghanistan             0.0           0.0\n",
      "           Algeria                 0.0           0.0\n",
      "           Armenia                 0.0           0.0\n",
      "           Australia               0.0           0.0\n",
      "           Austria                 0.0           0.0\n",
      "...                                ...           ...\n",
      "2020-08-08 Vietnam               789.0          10.0\n",
      "           Western Sahara        766.0           1.0\n",
      "           Yemen                1796.0         512.0\n",
      "           Zambia               7486.0         200.0\n",
      "           Zimbabwe             4451.0         102.0\n",
      "\n",
      "[35285 rows x 2 columns]\n"
     ]
    }
   ],
   "source": [
    "df_countries=df[df.location!='World']\n",
    "df_countries = df_countries.groupby(['date','location']).agg({'total_cases':np.sum, 'total_deaths':np.sum})\n",
    "print(df_countries)\n",
    "\n"
   ]
  },
  {
   "cell_type": "code",
   "execution_count": 3,
   "metadata": {},
   "outputs": [
    {
     "name": "stdout",
     "output_type": "stream",
     "text": [
      "                        total_cases  total_deaths\n",
      "date       location                              \n",
      "2019-12-31 China               27.0           0.0\n",
      "           Afghanistan          0.0           0.0\n",
      "           Algeria              0.0           0.0\n",
      "           Armenia              0.0           0.0\n",
      "           Australia            0.0           0.0\n",
      "...                             ...           ...\n",
      "2020-08-08 Mexico          469407.0       51311.0\n",
      "           Peru            463875.0       20649.0\n",
      "           Chile           368825.0        9958.0\n",
      "           Colombia        367196.0       12250.0\n",
      "           Iran            322567.0       18132.0\n",
      "\n",
      "[2220 rows x 2 columns]\n"
     ]
    }
   ],
   "source": [
    "df_countries = df_countries.groupby(['date']).apply(lambda x: x.nlargest(10, 'total_cases')[['total_cases','total_deaths']]).reset_index(level=1,drop=True)\n",
    "print(df_countries)"
   ]
  },
  {
   "cell_type": "code",
   "execution_count": 4,
   "metadata": {},
   "outputs": [
    {
     "name": "stdout",
     "output_type": "stream",
     "text": [
      "[0. 0. 0. 0. 0. 0. 0. 0. 0. 0.]\n"
     ]
    }
   ],
   "source": [
    " print(df_countries.loc['2019-12-31','total_deaths'].values)"
   ]
  },
  {
   "cell_type": "code",
   "execution_count": 5,
   "metadata": {},
   "outputs": [
    {
     "name": "stdout",
     "output_type": "stream",
     "text": [
      "['2019-12-31', '2020-01-01', '2020-01-02', '2020-01-03', '2020-01-04', '2020-01-05', '2020-01-06', '2020-01-07', '2020-01-08', '2020-01-09', '2020-01-10', '2020-01-11', '2020-01-12', '2020-01-13', '2020-01-14', '2020-01-15', '2020-01-16', '2020-01-17', '2020-01-18', '2020-01-19', '2020-01-20', '2020-01-21', '2020-01-22', '2020-01-23', '2020-01-24', '2020-01-25', '2020-01-26', '2020-01-27', '2020-01-28', '2020-01-29', '2020-01-30', '2020-01-31', '2020-02-01', '2020-02-02', '2020-02-03', '2020-02-04', '2020-02-05', '2020-02-06', '2020-02-07', '2020-02-08', '2020-02-09', '2020-02-10', '2020-02-11', '2020-02-12', '2020-02-13', '2020-02-14', '2020-02-15', '2020-02-16', '2020-02-17', '2020-02-18', '2020-02-19', '2020-02-20', '2020-02-21', '2020-02-22', '2020-02-23', '2020-02-24', '2020-02-25', '2020-02-26', '2020-02-27', '2020-02-28', '2020-02-29', '2020-03-01', '2020-03-02', '2020-03-03', '2020-03-04', '2020-03-05', '2020-03-06', '2020-03-07', '2020-03-08', '2020-03-09', '2020-03-10', '2020-03-11', '2020-03-12', '2020-03-13', '2020-03-14', '2020-03-15', '2020-03-16', '2020-03-17', '2020-03-18', '2020-03-19', '2020-03-20', '2020-03-21', '2020-03-22', '2020-03-23', '2020-03-24', '2020-03-25', '2020-03-26', '2020-03-27', '2020-03-28', '2020-03-29', '2020-03-30', '2020-03-31', '2020-04-01', '2020-04-02', '2020-04-03', '2020-04-04', '2020-04-05', '2020-04-06', '2020-04-07', '2020-04-08', '2020-04-09', '2020-04-10', '2020-04-11', '2020-04-12', '2020-04-13', '2020-04-14', '2020-04-15', '2020-04-16', '2020-04-17', '2020-04-18', '2020-04-19', '2020-04-20', '2020-04-21', '2020-04-22', '2020-04-23', '2020-04-24', '2020-04-25', '2020-04-26', '2020-04-27', '2020-04-28', '2020-04-29', '2020-04-30', '2020-05-01', '2020-05-02', '2020-05-03', '2020-05-04', '2020-05-05', '2020-05-06', '2020-05-07', '2020-05-08', '2020-05-09', '2020-05-10', '2020-05-11', '2020-05-12', '2020-05-13', '2020-05-14', '2020-05-15', '2020-05-16', '2020-05-17', '2020-05-18', '2020-05-19', '2020-05-20', '2020-05-21', '2020-05-22', '2020-05-23', '2020-05-24', '2020-05-25', '2020-05-26', '2020-05-27', '2020-05-28', '2020-05-29', '2020-05-30', '2020-05-31', '2020-06-01', '2020-06-02', '2020-06-03', '2020-06-04', '2020-06-05', '2020-06-06', '2020-06-07', '2020-06-08', '2020-06-09', '2020-06-10', '2020-06-11', '2020-06-12', '2020-06-13', '2020-06-14', '2020-06-15', '2020-06-16', '2020-06-17', '2020-06-18', '2020-06-19', '2020-06-20', '2020-06-21', '2020-06-22', '2020-06-23', '2020-06-24', '2020-06-25', '2020-06-26', '2020-06-27', '2020-06-28', '2020-06-29', '2020-06-30', '2020-07-01', '2020-07-02', '2020-07-03', '2020-07-04', '2020-07-05', '2020-07-06', '2020-07-07', '2020-07-08', '2020-07-09', '2020-07-10', '2020-07-11', '2020-07-12', '2020-07-13', '2020-07-14', '2020-07-15', '2020-07-16', '2020-07-17', '2020-07-18', '2020-07-19', '2020-07-20', '2020-07-21', '2020-07-22', '2020-07-23', '2020-07-24', '2020-07-25', '2020-07-26', '2020-07-27', '2020-07-28', '2020-07-29', '2020-07-30', '2020-07-31', '2020-08-01', '2020-08-02', '2020-08-03', '2020-08-04', '2020-08-05', '2020-08-06', '2020-08-07', '2020-08-08']\n"
     ]
    }
   ],
   "source": [
    "list_dates = sorted(list(df['date'].unique()))\n",
    "\n",
    "print(list_dates)"
   ]
  },
  {
   "cell_type": "code",
   "execution_count": 6,
   "metadata": {
    "scrolled": false
   },
   "outputs": [
    {
     "data": {
      "image/png": "[encoded data removed]",
      "text/plain": [
       "<Figure size 1296x576 with 1 Axes>"
      ]
     },
     "metadata": {
      "needs_background": "light"
     },
     "output_type": "display_data"
    }
   ],
   "source": [
    "fig, ax = plt.subplots(figsize=(18, 8))\n"
   ]
  },
  {
   "cell_type": "code",
   "execution_count": 7,
   "metadata": {},
   "outputs": [],
   "source": [
    "\n",
    "countries = df['location'].unique()  #Countries can be repeated on different Dates\n",
    "cmap = plt.get_cmap('tab20')\n",
    "cmap2 = plt.get_cmap('tab20b')\n",
    "colors = cmap(np.linspace(0, 1, len(countries)))\n",
    "colors2 = cmap2(np.linspace(0, 1, len(countries)))\n",
    "color_dict = dict(zip(countries,colors))\n",
    "color2_dict = dict(zip(countries,colors2))"
   ]
  },
  {
   "cell_type": "code",
   "execution_count": 8,
   "metadata": {},
   "outputs": [],
   "source": [
    "   \n",
    "def update(some_date):\n",
    "\n",
    "    ax.clear()\n",
    "   \n",
    "    xvals = df_countries.loc[some_date].index\n",
    "    data_total_cases = list(map(int, df_countries.loc[some_date, 'total_cases'].values))\n",
    "    data_death_count = list(map(int, df_countries.loc[some_date, 'total_deaths'].values))\n",
    "    \n",
    "\n",
    "   # print(xvals,data)  \n",
    "    sleep(0.3)  # To slow down the animation\n",
    "\n",
    "    ax.set_title(f'Cumulative Confirmed COVID-19 Cases\\n {some_date}',fontsize=15)\n",
    "    ax.invert_yaxis()\n",
    "    for spine in ax.spines.values():\n",
    "        spine.set_visible(False)\n",
    "    # Removing Tickmarks and values in X-axis\n",
    "    ax.tick_params(left=False, bottom=False, labelbottom=False)\n",
    "    \n",
    "    bars_total=ax.barh(xvals, data_total_cases , color=[color_dict[country] for country in xvals])\n",
    "    bars_death_count=ax.barh(xvals, data_death_count , color=[color2_dict[country] for country in xvals])\n",
    "    \n",
    "    for bar in bars_total:\n",
    "        ax.text(bar.get_width(), bar.get_y() + bar.get_height()/2, '  ' + str(bar.get_width()), va='center')\n",
    "    for bar in bars_death_count:\n",
    "        ax.text(bar.get_width(), bar.get_y() + bar.get_height()/2, '  ' + str(bar.get_width()), va='center')"
   ]
  },
  {
   "cell_type": "code",
   "execution_count": 9,
   "metadata": {
    "scrolled": true
   },
   "outputs": [],
   "source": [
    "#test_dates=['2020-06-18', '2020-06-19', '2020-06-20', '2020-06-21', '2020-06-22', '2020-06-23', '2020-06-24', '2020-06-25', '2020-06-26', '2020-06-27', '2020-06-28', '2020-06-29', '2020-06-30', '2020-07-01', '2020-07-02', '2020-07-03', '2020-07-04', '2020-07-05', '2020-07-06', '2020-07-07', '2020-07-08', '2020-07-09', '2020-07-10', '2020-07-11', '2020-07-12', '2020-07-13', '2020-07-14', '2020-07-15', '2020-07-16', '2020-07-17', '2020-07-18', '2020-07-19', '2020-07-20', '2020-07-21', '2020-07-22', '2020-07-23', '2020-07-24', '2020-07-25', '2020-07-26', '2020-07-27', '2020-07-28', '2020-07-29', '2020-07-30', '2020-07-31', '2020-08-01', '2020-08-02', '2020-08-03', '2020-08-04', '2020-08-05', '2020-08-06', '2020-08-07', '2020-08-08']\n",
    "my_anim = animation.FuncAnimation(fig = fig, func = update,\n",
    "                    frames= list_dates, blit=False,\n",
    "                    interval=30, repeat=False)"
   ]
  },
  {
   "cell_type": "code",
   "execution_count": 10,
   "metadata": {
    "scrolled": false
   },
   "outputs": [],
   "source": [
    "path_mp4 = 'covid2.mp4' \n",
    "my_anim.save(filename = path_mp4, writer = 'ffmpeg',\n",
    "             fps=15,\n",
    "             extra_args= ['-vcodec', 'libx264', '-pix_fmt', 'yuv420p'])\n"
   ]
  },
  {
   "cell_type": "code",
   "execution_count": 11,
   "metadata": {},
   "outputs": [
    {
     "name": "stdout",
     "output_type": "stream",
     "text": [
      "            total_cases  total_deaths\n",
      "date                                 \n",
      "2019-12-31         27.0           0.0\n",
      "2020-01-01         27.0           0.0\n",
      "2020-01-02         27.0           0.0\n",
      "2020-01-03         44.0           0.0\n",
      "2020-01-04         44.0           0.0\n",
      "...                 ...           ...\n",
      "2020-08-04   18270347.0      693733.0\n",
      "2020-08-05   18524006.0      700544.0\n",
      "2020-08-06   18798855.0      707716.0\n",
      "2020-08-07   19082952.0      714626.0\n",
      "2020-08-08   19357085.0      721174.0\n",
      "\n",
      "[222 rows x 2 columns]\n"
     ]
    }
   ],
   "source": [
    "df2 = pd.read_csv(url,header=0,  usecols = ['location', 'date', 'total_cases', 'total_deaths'])\n",
    "df_world_count=df2[df2.location =='World']\n",
    "df_world_count.index = pd.to_datetime(df_world_count.date)\n",
    "df_world_count = df_world_count.drop(columns=['location','date'])\n",
    "\n",
    "print(df_world_count)"
   ]
  },
  {
   "cell_type": "code",
   "execution_count": 16,
   "metadata": {},
   "outputs": [
    {
     "data": {
      "text/plain": [
       "<matplotlib.legend.Legend at 0xad39b48>"
      ]
     },
     "execution_count": 16,
     "metadata": {},
     "output_type": "execute_result"
    },
    {
     "data": {
      "image/png": "[encoded data removed]",
      "text/plain": [
       "<Figure size 1296x792 with 1 Axes>"
      ]
     },
     "metadata": {
      "needs_background": "light"
     },
     "output_type": "display_data"
    }
   ],
   "source": [
    "\n",
    "fig, ax = plt.subplots(figsize=(18, 11))\n",
    "\n",
    "x = df_world_count.index\n",
    "y = df_world_count.total_cases\n",
    "z = df_world_count.total_deaths\n",
    "line1, = ax.plot(x, y, color = \"green\", linewidth=5, label=\"# of Confirmed Covid-19 Cases\")\n",
    "line2, = ax.plot(x, z, color = \"purple\", linewidth=5, label=\"# of Deaths Due to Covid-19\")\n",
    "plt.xticks(rotation=45, ha=\"right\", rotation_mode=\"anchor\") #rotate the x-axis values\n",
    "plt.subplots_adjust(bottom = 0.2, top = 0.9) #ensuring the dates (on the x-axis) fit in the screen\n",
    "plt.ylabel('Total Count',fontsize=15)\n",
    "plt.xlabel('Date',fontsize=15)\n",
    "plt.title('Confirmed Covid-19 Cases & Total Deaths',fontsize=20)\n",
    "plt.legend(loc=\"upper left\", fontsize='xx-large')"
   ]
  },
  {
   "cell_type": "code",
   "execution_count": 20,
   "metadata": {},
   "outputs": [
    {
     "name": "stdout",
     "output_type": "stream",
     "text": [
      "date\n",
      "2019-12-31    27.0\n",
      "2020-01-01    27.0\n",
      "2020-01-02    27.0\n",
      "2020-01-03    44.0\n",
      "Name: total_cases, dtype: float64\n"
     ]
    }
   ],
   "source": [
    "print(y[:4])\n"
   ]
  },
  {
   "cell_type": "code",
   "execution_count": 21,
   "metadata": {},
   "outputs": [],
   "source": [
    "def line_chart(num, x, y, z, line1, line2):\n",
    "\n",
    "    plt.legend(df_world_count.columns)\n",
    "    line1.set_data(x[:num], y[:num])\n",
    "    line2.set_data(x[:num], z[:num])\n",
    "    return [line1,line2]"
   ]
  },
  {
   "cell_type": "code",
   "execution_count": 22,
   "metadata": {},
   "outputs": [
    {
     "data": {
      "image/png": "[encoded data removed]",
      "text/plain": [
       "<Figure size 432x288 with 1 Axes>"
      ]
     },
     "metadata": {
      "needs_background": "light"
     },
     "output_type": "display_data"
    }
   ],
   "source": [
    "Writer = animation.writers['ffmpeg']\n",
    "writer = Writer(fps=20, metadata=dict(artist='Me'), bitrate=1800)\n",
    "\n",
    "animator = animation.FuncAnimation(fig = fig, func = line_chart, \n",
    "                                   fargs=[x, y, z, line1, line2], \n",
    "                                   frames= range(len(list_dates)), blit=False)\n",
    "\n",
    "path_mp4 = 'covid_world.mp4' \n",
    "animator.save(path_mp4, writer=writer)\n",
    "plt.show()"
   ]
  },
  {
   "cell_type": "code",
   "execution_count": null,
   "metadata": {},
   "outputs": [],
   "source": []
  },
  {
   "cell_type": "code",
   "execution_count": null,
   "metadata": {},
   "outputs": [],
   "source": []
  },
  {
   "cell_type": "code",
   "execution_count": null,
   "metadata": {},
   "outputs": [],
   "source": []
  }
 ],
 "metadata": {
  "kernelspec": {
   "display_name": "Python 3",
   "language": "python",
   "name": "python3"
  },
  "language_info": {
   "codemirror_mode": {
    "name": "ipython",
    "version": 3
   },
   "file_extension": ".py",
   "mimetype": "text/x-python",
   "name": "python",
   "nbconvert_exporter": "python",
   "pygments_lexer": "ipython3",
   "version": "3.7.6"
  }
 },
 "nbformat": 4,
 "nbformat_minor": 4
}
